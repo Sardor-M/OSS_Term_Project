{
 "cells": [
  {
   "cell_type": "code",
   "execution_count": null,
   "id": "e12b4fab",
   "metadata": {},
   "outputs": [],
   "source": [
    "#!/usr/bin/env python3\n",
    "# -*- coding: utf-8 -*-\n",
    "\n",
    "# This example is not working in Spyder directly (F5 or Run)\n",
    "# Please type '!python turtle_runaway.py' on IPython console in your Spyder.\n",
    "# This example is not working in Spyder directly (F5 or Run)\n",
    "\n",
    "# import chart_studio.plotly as py\n",
    "# chart_studio.tools.set_credentials_file(username = \"steve71\", api_key='F3X2aepIjmI3n4W5Qvsm')\n",
    "\n",
    "import pandas as pd\n",
    "import plotly.graph_objects as go\n",
    "\n",
    "df = pd.read_csv(\"dataset/time_series_covid_19_confirmed.csv\")\n",
    "df.head()\n",
    "df = df.rename(columns= {\"Country/Region\": \"Country\", \"Province/State\": \"Province\"})\n",
    "df.head()\n",
    "\n",
    "df['text'] = df['Country'] + \" \" + df[\"4/13/20\"].astype(str)\n",
    "fig = go.Figure(data = go.Scattergeo(\n",
    "         lon = df[\"Long\"],\n",
    "         lat = df[\"Lat\"],\n",
    "         text = df[\"text\"],\n",
    "         mode = \"markers\",\n",
    "         marker = dict (\n",
    "             size = 12,\n",
    "             opacity = 0.8,\n",
    "             reversescale = True,\n",
    "             autocolorscale = True,\n",
    "             symbol = 'square',\n",
    "             line = dict (\n",
    "                 width = 1, \n",
    "                 color = 'rgba(104, 104, 104)'\n",
    "             ),\n",
    "             cmin  = 0,\n",
    "             color = df['4/13/20'],\n",
    "             cmax = df['4/13/20'].max(),\n",
    "             colorbar_title = \"COVID 19 Reported Cases\"\n",
    "             \n",
    "        )\n",
    "))         \n",
    "\n",
    "\n",
    "fig.update_layout(\n",
    "    title = \"COVID 19 Confirmed Cases Around the World\",\n",
    "    geo = dict (\n",
    "        scope = \"world\",\n",
    "        showland = True,\n",
    "    ),\n",
    ")\n",
    "\n",
    "fig.write_html('new_doc2.html', auto_open=True)\n",
    "\n",
    "# I tried to publish it online in plotly, but it didnt work out\n",
    "# py.plot(fig, filename = 'COVID-19-Cases-Confirmed', auto_open = True) "
   ]
  }
 ],
 "metadata": {
  "kernelspec": {
   "display_name": "Python 3",
   "language": "python",
   "name": "python3"
  },
  "language_info": {
   "codemirror_mode": {
    "name": "ipython",
    "version": 3
   },
   "file_extension": ".py",
   "mimetype": "text/x-python",
   "name": "python",
   "nbconvert_exporter": "python",
   "pygments_lexer": "ipython3",
   "version": "3.8.8"
  }
 },
 "nbformat": 4,
 "nbformat_minor": 5
}
